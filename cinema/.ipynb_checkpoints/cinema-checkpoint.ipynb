{
 "cells": [
  {
   "cell_type": "code",
   "execution_count": 24,
   "metadata": {},
   "outputs": [],
   "source": [
    "#Imports\n",
    "from requests import get\n",
    "from requests.exceptions import RequestException\n",
    "from contextlib import closing\n",
    "from bs4 import BeautifulSoup\n",
    "import pandas"
   ]
  },
  {
   "cell_type": "code",
   "execution_count": 25,
   "metadata": {},
   "outputs": [],
   "source": [
    "#Fazendo as requisições para o download das páginas\n",
    "#Criando função para receber uma URL e verificar se tem algum \n",
    "#Conteúdo do tipo HTML/texto \n",
    "def get_url(url):\n",
    "    try:\n",
    "        with closing(get(url,stream=True)) as resp:\n",
    "            if response_true(resp):\n",
    "                return resp.content\n",
    "            else:\n",
    "                return None\n",
    "    except RequestException as e:\n",
    "        log_error(\"Erro de solicitação \".format(url,str(e)))\n",
    "        return None\n",
    "    \n",
    "#Função para imprimir os erros \n",
    "def log_error(e):\n",
    "    print(e)\n",
    "    \n",
    "#Função que retorna true caso seja HTML\n",
    "def response_true(resp):\n",
    "    content_type = resp.headers['Content-Type'].lower()\n",
    "    return (resp.status_code==200\n",
    "           and content_type is not None\n",
    "           and content_type.find('html')>-1)\n",
    "#URL do Cinemark (Natal)\n",
    "page = get_url(\"https://www.cinemark.com.br/natal/cinemas?cinema=681\")"
   ]
  },
  {
   "cell_type": "code",
   "execution_count": 38,
   "metadata": {},
   "outputs": [
    {
     "ename": "SyntaxError",
     "evalue": "unexpected EOF while parsing (<ipython-input-38-bd9961961df3>, line 14)",
     "output_type": "error",
     "traceback": [
      "\u001b[0;36m  File \u001b[0;32m\"<ipython-input-38-bd9961961df3>\"\u001b[0;36m, line \u001b[0;32m14\u001b[0m\n\u001b[0;31m    \u001b[0m\n\u001b[0m    ^\u001b[0m\n\u001b[0;31mSyntaxError\u001b[0m\u001b[0;31m:\u001b[0m unexpected EOF while parsing\n"
     ]
    }
   ],
   "source": [
    "#Tratando o HTML bruto#Tratan \n",
    "html = BeautifulSoup(page, 'html.parser')\n",
    "\n",
    "#Pegando a div com as informações dos filmes\n",
    "movies = html.findAll(\"div\", {\"class\": \"theater\"})\n",
    "\n",
    "title_movie = []\n",
    "horary = []\n",
    "\n",
    "for movie in movies:\n",
    "    title_movie.append(movie.find(\"h3\", {\"class\":\"title\"}).text)\n",
    "    horary.append(movie.find(\"ul\", {\"class\":\"times-options\"}).text\n",
    "                  \n",
    "                  \n",
    "#Ordenando por horário\n",
    "df = pandas.DataFrame({\n",
    "    \"Title\": title_movie,\n",
    "    \"Horary\": horary\n",
    "})\n"
   ]
  },
  {
   "cell_type": "code",
   "execution_count": null,
   "metadata": {},
   "outputs": [],
   "source": []
  }
 ],
 "metadata": {
  "kernelspec": {
   "display_name": "Python 3",
   "language": "python",
   "name": "python3"
  },
  "language_info": {
   "codemirror_mode": {
    "name": "ipython",
    "version": 3
   },
   "file_extension": ".py",
   "mimetype": "text/x-python",
   "name": "python",
   "nbconvert_exporter": "python",
   "pygments_lexer": "ipython3",
   "version": "3.6.4"
  }
 },
 "nbformat": 4,
 "nbformat_minor": 2
}
